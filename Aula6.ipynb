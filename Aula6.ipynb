{
 "cells": [
  {
   "cell_type": "code",
   "execution_count": 19,
   "metadata": {},
   "outputs": [
    {
     "name": "stdout",
     "output_type": "stream",
     "text": [
      "Quantidade de números pares: 5\n",
      "Quantidade de números ímpares: 5\n"
     ]
    }
   ],
   "source": [
    "\"\"\"for elemento in [1, 2, 3, 4, 5, 6]:\n",
    "    print(\"Estamos no elemento \", elemento)\"\"\"\n",
    "\n",
    "\"\"\"for elemento in 'STRING':   \n",
    "    print(\"Estamos no elemento \", elemento)\"\"\"\n",
    "\n",
    "\"\"\"for elemento in range(len(\"STRING\"))\n",
    "    print('Estamos no elemento, ', elemento)\"\"\"\n",
    "\n",
    "\"\"\"elemento = 0\n",
    "\n",
    "while elemento <= len([1, 2, 3, 4, 5, 6]) :\n",
    "    print('Estamos no elemento, ', elemento)\"\"\"\n",
    "\n",
    "\"\"\"s= 'STRING'\n",
    "indice = 0\n",
    "\n",
    "while indice in range (len (s)):\n",
    "    print(\"Estamos no elemento \", s[indice])\n",
    "    indice +=1\"\"\"\n",
    "\n",
    "\"\"\"palavra = \"tranquilo\"\n",
    "for indice, x in enumerate(palavra):\n",
    "    print(indice, x)\"\"\"\n",
    "\n",
    "\"\"\"lista = ['eat', 'sleep', 'repeat']\n",
    "palavra = 'geek'\n",
    "objeto1= enumerate(lista)\n",
    "objeto2= enumerate(palavra)\n",
    "print(\"Tipo: \", type(objeto1))\n",
    "print(list(enumerate(lista)))\n",
    "print(list(enumerate(palavra, 2)))\"\"\"\n",
    "\n",
    "\"\"\"s = \"viva o python\"\n",
    "for ch in s[3:8]:\n",
    "    print(\"oi\")\"\"\"\n",
    "\n",
    "def contar_pares_impares(numeros):\n",
    "    pares = 0\n",
    "    impares = 0\n",
    "    for numero in numeros:\n",
    "        if numero % 2 == 0:\n",
    "            pares += 1\n",
    "        else:\n",
    "            impares += 1\n",
    "    return pares, impares\n",
    "\n",
    "numeros = []\n",
    "for i in range(10):\n",
    "    numero = int(input(\"Digite um número inteiro: \"))\n",
    "    numeros.append(numero)\n",
    "\n",
    "quantidade_pares, quantidade_impares = contar_pares_impares(numeros)\n",
    "\n",
    "print(\"Quantidade de números pares:\", quantidade_pares)\n",
    "print(\"Quantidade de números ímpares:\", quantidade_impares)\n",
    "\n",
    "\n"
   ]
  }
 ],
 "metadata": {
  "kernelspec": {
   "display_name": "Python 3",
   "language": "python",
   "name": "python3"
  },
  "language_info": {
   "codemirror_mode": {
    "name": "ipython",
    "version": 3
   },
   "file_extension": ".py",
   "mimetype": "text/x-python",
   "name": "python",
   "nbconvert_exporter": "python",
   "pygments_lexer": "ipython3",
   "version": "3.11.9"
  }
 },
 "nbformat": 4,
 "nbformat_minor": 2
}
